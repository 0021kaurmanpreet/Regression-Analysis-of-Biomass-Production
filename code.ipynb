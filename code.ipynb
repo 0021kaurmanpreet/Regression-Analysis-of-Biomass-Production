{
 "cells": [
  {
   "cell_type": "markdown",
   "id": "acf7c310-687f-41f9-b5df-4cfb317033f3",
   "metadata": {},
   "source": [
    "# Analysis of the Linthurst data to identify the important physicochemical properties of the substrate influencing aerial biomass production in the Cape Fear Estuary of North Carolina"
   ]
  },
  {
   "cell_type": "code",
   "execution_count": 1,
   "id": "bed35dbb-3c5d-4c54-a5b4-82181ff51130",
   "metadata": {},
   "outputs": [],
   "source": [
    "#!pip install statsmodels\n",
    "#!pip install matplotlib"
   ]
  },
  {
   "cell_type": "markdown",
   "id": "08dd293d-615a-43b0-89c5-5c6d8af9363e",
   "metadata": {},
   "source": [
    "### Import Libraries\n",
    "We start by importing essential libraries such as pandas for handling datasets, numpy for mathematical computations, and statsmodels for conducting regression analysis. These tools form the backbone of our analysis."
   ]
  },
  {
   "cell_type": "code",
   "execution_count": 2,
   "id": "fecb1cce-17bd-4db5-9782-c445b138552d",
   "metadata": {},
   "outputs": [],
   "source": [
    "import pandas as pd\n",
    "import numpy as np\n",
    "import statsmodels.api as sm\n",
    "from statsmodels.stats.outliers_influence import variance_inflation_factor\n",
    "from sklearn.decomposition import PCA\n",
    "from sklearn.linear_model import LinearRegression\n",
    "from sklearn.preprocessing import StandardScaler\n",
    "import numpy as np\n",
    "from sklearn.linear_model import Ridge\n",
    "import matplotlib.pyplot as plt\n",
    "from sklearn.metrics import mean_squared_error\n",
    "from itertools import combinations"
   ]
  },
  {
   "cell_type": "markdown",
   "id": "86b1c5d7-938b-4576-a28a-416a474f0773",
   "metadata": {},
   "source": [
    "## Part I - Using the ordinary least square estimation to estimate the regression coefficients."
   ]
  },
  {
   "cell_type": "markdown",
   "id": "5a21ddc3-73e8-4cdf-84b1-3a7e44ff6a9b",
   "metadata": {},
   "source": [
    "### Load the Data\n",
    "Here, we read the LINTHALL.txt file, which contains information about biomass production (BIO) and 14 predictors related to soil properties. The data is loaded into a structured format for analysis."
   ]
  },
  {
   "cell_type": "code",
   "execution_count": 3,
   "id": "1a3eac5d-1719-4ae8-9a2b-deed25265050",
   "metadata": {},
   "outputs": [
    {
     "name": "stderr",
     "output_type": "stream",
     "text": [
      "C:\\Users\\kaur6\\AppData\\Local\\Temp\\ipykernel_36872\\1085252203.py:3: FutureWarning: The 'delim_whitespace' keyword in pd.read_csv is deprecated and will be removed in a future version. Use ``sep='\\s+'`` instead\n",
      "  data = pd.read_csv(file_path, delim_whitespace=True)\n"
     ]
    }
   ],
   "source": [
    "# Load data\n",
    "file_path = \"C:/Users/kaur6/Downloads/Regression/Project/LINTHALL.txt\"\n",
    "data = pd.read_csv(file_path, delim_whitespace=True)"
   ]
  },
  {
   "cell_type": "markdown",
   "id": "f22a1ed2-30b9-466d-a730-a3d67c260604",
   "metadata": {},
   "source": [
    "### Define Predictors and Response\n",
    "In this step, we isolate the predictors (soil characteristics) and the response variable (BIO) into separate variables. This separation prepares the data for regression analysis."
   ]
  },
  {
   "cell_type": "code",
   "execution_count": 4,
   "id": "eee8501a-89ae-476e-a4e9-9875f4208b71",
   "metadata": {},
   "outputs": [],
   "source": [
    "# Prepare data\n",
    "predictor_columns = ['H2S', 'SAL', 'Eh7', 'pH', 'BUF', 'P', 'K', 'Ca', 'Mg', 'Na', 'Mn', 'Zn', 'Cu', 'NH4']\n",
    "X = data[predictor_columns]\n",
    "Y = data['BIO']"
   ]
  },
  {
   "cell_type": "markdown",
   "id": "8ef8a8a0-9747-4f75-b638-004e8c1d800a",
   "metadata": {},
   "source": [
    "### Add Intercept for Regression\n",
    "We append a column of ones to the predictors, enabling the regression model to calculate an intercept term. The intercept represents the baseline biomass production when all predictors are at zero."
   ]
  },
  {
   "cell_type": "code",
   "execution_count": 5,
   "id": "11aebc48-45a9-4ae7-9f18-814510787530",
   "metadata": {},
   "outputs": [],
   "source": [
    "# Add intercept to predictors for regression\n",
    "X_with_intercept = sm.add_constant(X)"
   ]
  },
  {
   "cell_type": "markdown",
   "id": "9a7e1990-1141-4179-a073-698256487d1a",
   "metadata": {},
   "source": [
    "### Fit the OLS model"
   ]
  },
  {
   "cell_type": "code",
   "execution_count": 6,
   "id": "733241d7-9b51-4818-99e9-5eebf4f1aec0",
   "metadata": {},
   "outputs": [],
   "source": [
    "# Fit linear regression model\n",
    "model = sm.OLS(Y, X_with_intercept).fit()"
   ]
  },
  {
   "cell_type": "markdown",
   "id": "6ef481c0-7b11-455a-a544-37dc3c1eefa0",
   "metadata": {},
   "source": [
    "### 1) Extract Regression Results\n",
    "Here, we extract the key outputs of the regression model: the coefficients of the predictors, their associated standard errors, and the sum of squared errors (SSE). These metrics allow us to evaluate model performance."
   ]
  },
  {
   "cell_type": "code",
   "execution_count": 7,
   "id": "8426e8c1-59f7-4d90-b852-a969468c26c3",
   "metadata": {},
   "outputs": [
    {
     "name": "stdout",
     "output_type": "stream",
     "text": [
      "Regression Coefficients:\n",
      " const    2909.934091\n",
      "H2S         0.428999\n",
      "SAL       -23.980716\n",
      "Eh7         2.553224\n",
      "pH        242.527810\n",
      "BUF        -6.902268\n",
      "P          -1.701511\n",
      "K          -1.046591\n",
      "Ca         -0.116071\n",
      "Mg         -0.280228\n",
      "Na          0.004451\n",
      "Mn         -1.678760\n",
      "Zn        -18.794521\n",
      "Cu        345.162813\n",
      "NH4        -2.705172\n",
      "dtype: float64\n",
      "\n",
      "Standard Errors:\n",
      " const    3412.897794\n",
      "H2S         2.997919\n",
      "SAL        26.169393\n",
      "Eh7         2.012450\n",
      "pH        334.173444\n",
      "BUF       123.821077\n",
      "P           2.639700\n",
      "K           0.482358\n",
      "Ca          0.125637\n",
      "Mg          0.274452\n",
      "Na          0.024723\n",
      "Mn          5.373138\n",
      "Zn         21.780185\n",
      "Cu        112.077924\n",
      "NH4         3.238010\n",
      "dtype: float64\n",
      "\n",
      "Sum of Standard Errors (Σ s.e.(β̂_j)): 4048.0882036015996\n",
      "\n",
      "Sum of Squared Errors (SSE): 3692233.4755698624\n"
     ]
    }
   ],
   "source": [
    "# Extract regression coefficients, standard errors, and SSE\n",
    "coefficients = model.params\n",
    "std_errors = model.bse\n",
    "SSE = sum((model.resid) ** 2)\n",
    "\n",
    "# Compute sum of standard errors\n",
    "sum_std_errors = sum(std_errors)\n",
    "\n",
    "print(\"Regression Coefficients:\\n\", coefficients)\n",
    "print(\"\\nStandard Errors:\\n\", std_errors)\n",
    "print(\"\\nSum of Standard Errors (Σ s.e.(β̂_j)):\", sum_std_errors)\n",
    "print(\"\\nSum of Squared Errors (SSE):\", SSE)"
   ]
  },
  {
   "cell_type": "markdown",
   "id": "c14eda84-9829-4c33-840a-89eb33856649",
   "metadata": {},
   "source": [
    "### 2) Collinearity Diagnostics\n",
    "Here we run the collinearity diagnostics to identify if there is any collinearity.\n",
    "#### Calculate Variance Inflation Factor (VIF)\n",
    "We compute the Variance Inflation Factor for each predictor to measure the extent of multicollinearity. A higher VIF indicates that a predictor is highly correlated with others, potentially affecting model stability."
   ]
  },
  {
   "cell_type": "code",
   "execution_count": 8,
   "id": "c0d17663-1af4-4b3e-a8dd-3294fba98f19",
   "metadata": {},
   "outputs": [
    {
     "name": "stdout",
     "output_type": "stream",
     "text": [
      "\n",
      "Variance Inflation Factor (VIF):\n",
      "    Feature         VIF\n",
      "0      H2S  551.085744\n",
      "1      SAL  128.585107\n",
      "2      Eh7  138.480069\n",
      "3       pH  250.169112\n",
      "4      BUF   70.102695\n",
      "5        P    4.535564\n",
      "6        K   54.706609\n",
      "7       Ca   22.588164\n",
      "8       Mg  257.548005\n",
      "9       Na   66.815038\n",
      "10      Mn   11.510101\n",
      "11      Zn   66.169248\n",
      "12      Cu   76.519084\n",
      "13     NH4   31.618182\n"
     ]
    }
   ],
   "source": [
    "# Collinearity Diagnostics\n",
    "# 1. Calculate Variance Inflation Factor (VIF)\n",
    "vif_data = pd.DataFrame()\n",
    "vif_data['Feature'] = X.columns\n",
    "vif_data['VIF'] = [variance_inflation_factor(X.values, i) for i in range(X.shape[1])]\n",
    "print(\"\\nVariance Inflation Factor (VIF):\\n\", vif_data)"
   ]
  },
  {
   "cell_type": "markdown",
   "id": "08dd1331-dc7a-45e8-8202-81ebd3b86e9c",
   "metadata": {},
   "source": [
    "#### Compute Condition Number\n",
    "To further diagnose collinearity, we calculate the condition number of the predictors matrix. This metric evaluates the numerical stability of the matrix and highlights potential multicollinearity issues."
   ]
  },
  {
   "cell_type": "code",
   "execution_count": 9,
   "id": "3c97f0ac-ce97-4b8d-be1b-470c6d333d97",
   "metadata": {},
   "outputs": [
    {
     "name": "stdout",
     "output_type": "stream",
     "text": [
      "\n",
      "Condition Number: 1202630.375753596\n"
     ]
    }
   ],
   "source": [
    "# 2. Condition Number\n",
    "_, singular_values, _ = np.linalg.svd(X_with_intercept)\n",
    "condition_number = max(singular_values) / min(singular_values)\n",
    "print(\"\\nCondition Number:\", condition_number)"
   ]
  },
  {
   "cell_type": "markdown",
   "id": "93a9ca7b-87b3-44ed-a121-fadbec70e3ff",
   "metadata": {},
   "source": [
    "#### Eigenvalues of Correlation Matrix\n",
    "Finally, we analyze the eigenvalues of the predictors' correlation matrix. Small eigenvalues reveal near-linear dependencies among predictors, shedding light on multicollinearity from a geometric perspective."
   ]
  },
  {
   "cell_type": "code",
   "execution_count": 10,
   "id": "6de8b780-496c-445a-bb5d-a439318c9e8e",
   "metadata": {},
   "outputs": [
    {
     "name": "stdout",
     "output_type": "stream",
     "text": [
      "\n",
      "Correlation Matrix:\n",
      "           H2S       SAL       Eh7        pH       BUF         P         K  \\\n",
      "H2S  1.000000  0.095809  0.399655  0.273529 -0.373831 -0.115394  0.068963   \n",
      "SAL  0.095809  1.000000  0.309299 -0.051333 -0.012533 -0.185678 -0.020633   \n",
      "Eh7  0.399655  0.309299  1.000000  0.094018 -0.153083 -0.305431  0.422611   \n",
      "pH   0.273529 -0.051333  0.094018  1.000000 -0.946372 -0.401372  0.019228   \n",
      "BUF -0.373831 -0.012533 -0.153083 -0.946372  1.000000  0.382936 -0.070247   \n",
      "P   -0.115394 -0.185678 -0.305431 -0.401372  0.382936  1.000000 -0.226473   \n",
      "K    0.068963 -0.020633  0.422611  0.019228 -0.070247 -0.226473  1.000000   \n",
      "Ca   0.093307  0.087978 -0.042121  0.877978 -0.791080 -0.306692 -0.265206   \n",
      "Mg  -0.107822 -0.010043  0.298503 -0.176148  0.130459 -0.063237  0.862245   \n",
      "Na  -0.003763  0.162266  0.342463 -0.037720 -0.060714 -0.163228  0.792096   \n",
      "Mn   0.141541 -0.253584 -0.111255 -0.475143  0.420357  0.495410 -0.347455   \n",
      "Zn  -0.272398 -0.420834 -0.232005 -0.722167  0.714683  0.557407  0.073609   \n",
      "Cu   0.012719 -0.266004  0.094544  0.181354 -0.143153 -0.053137  0.693051   \n",
      "NH4 -0.426213 -0.156835 -0.238966 -0.745959  0.849488  0.489739 -0.117581   \n",
      "\n",
      "           Ca        Mg        Na        Mn        Zn        Cu       NH4  \n",
      "H2S  0.093307 -0.107822 -0.003763  0.141541 -0.272398  0.012719 -0.426213  \n",
      "SAL  0.087978 -0.010043  0.162266 -0.253584 -0.420834 -0.266004 -0.156835  \n",
      "Eh7 -0.042121  0.298503  0.342463 -0.111255 -0.232005  0.094544 -0.238966  \n",
      "pH   0.877978 -0.176148 -0.037720 -0.475143 -0.722167  0.181354 -0.745959  \n",
      "BUF -0.791080  0.130459 -0.060714  0.420357  0.714683 -0.143153  0.849488  \n",
      "P   -0.306692 -0.063237 -0.163228  0.495410  0.557407 -0.053137  0.489739  \n",
      "K   -0.265206  0.862245  0.792096 -0.347455  0.073609  0.693051 -0.117581  \n",
      "Ca   1.000000 -0.418446 -0.248187 -0.308985 -0.699866 -0.112247 -0.582609  \n",
      "Mg  -0.418446  1.000000  0.899470 -0.219390  0.345217  0.712069  0.108226  \n",
      "Na  -0.248187  0.899470  1.000000 -0.310061  0.117047  0.560069 -0.107024  \n",
      "Mn  -0.308985 -0.219390 -0.310061  1.000000  0.603323 -0.233468  0.527021  \n",
      "Zn  -0.699866  0.345217  0.117047  0.603323  1.000000  0.212102  0.720679  \n",
      "Cu  -0.112247  0.712069  0.560069 -0.233468  0.212102  1.000000  0.013657  \n",
      "NH4 -0.582609  0.108226 -0.107024  0.527021  0.720679  0.013657  1.000000  \n"
     ]
    }
   ],
   "source": [
    "# 3. Correlation Matrix\n",
    "correlation_matrix = X.corr()\n",
    "print(\"\\nCorrelation Matrix:\\n\", correlation_matrix)"
   ]
  },
  {
   "cell_type": "markdown",
   "id": "6c69b755-f901-4d5f-a6bd-a315c11ad06f",
   "metadata": {},
   "source": [
    "## Part II - Using the Principle Components Regression method with collinearity reduction.\n",
    "### Standardize Predictors and Perform PCA\n",
    "Firstly, We Standardize predictors using StandardScaler, apply PCA to reduce dimensionality, and identify the number of components explaining at least 90% variance."
   ]
  },
  {
   "cell_type": "code",
   "execution_count": 11,
   "id": "9e2a1fb6-f57c-4e11-ba3e-67f775f226a5",
   "metadata": {},
   "outputs": [
    {
     "name": "stdout",
     "output_type": "stream",
     "text": [
      "Number of components explaining 90% variance: 6\n"
     ]
    }
   ],
   "source": [
    "# Standardize the predictors\n",
    "scaler = StandardScaler()\n",
    "X_scaled = scaler.fit_transform(X)\n",
    "\n",
    "# Perform PCA\n",
    "pca = PCA()\n",
    "X_pca = pca.fit_transform(X_scaled)\n",
    "\n",
    "# Determine the number of components explaining at least 90% variance\n",
    "explained_variance_ratio = np.cumsum(pca.explained_variance_ratio_)\n",
    "n_components = np.argmax(explained_variance_ratio >= 0.90) + 1\n",
    "print(f\"Number of components explaining 90% variance: {n_components}\")"
   ]
  },
  {
   "cell_type": "markdown",
   "id": "ac96bb28-471b-448e-b968-f323458209fa",
   "metadata": {},
   "source": [
    "### Examine PCA Loadings\n",
    "We examine PCA loadings to evaluate the contribution of each predictor, filter significant predictors based on a threshold, and identify key variables for analysis."
   ]
  },
  {
   "cell_type": "code",
   "execution_count": 12,
   "id": "08fbb6bf-5c0f-4003-b939-7f6822e3a6ad",
   "metadata": {},
   "outputs": [
    {
     "name": "stdout",
     "output_type": "stream",
     "text": [
      "Selected predictors based on PCA loadings: ['H2S', 'SAL', 'Eh7', 'P', 'Ca', 'Mn']\n"
     ]
    }
   ],
   "source": [
    "# Examine PCA loadings to select significant predictors\n",
    "loadings = pca.components_[:n_components]  # Loadings of retained components\n",
    "avg_contributions = np.mean(np.abs(loadings), axis=0)  # Average contribution of each predictor\n",
    "threshold = 0.2  # Adjust as needed to filter predictors\n",
    "significant_predictors = avg_contributions > threshold\n",
    "selected_predictors = X.columns[significant_predictors]\n",
    "print(f\"Selected predictors based on PCA loadings: {list(selected_predictors)}\")"
   ]
  },
  {
   "cell_type": "markdown",
   "id": "9bab3e47-b986-45c2-918f-5e9bd65e3495",
   "metadata": {},
   "source": [
    "### Run OLS Regression on Selected Predictors\n",
    "Then we perform OLS regression on the selected predictors, extract coefficients, calculate standard errors, and evaluate model performance using SSE and the sum of standard errors."
   ]
  },
  {
   "cell_type": "code",
   "execution_count": 13,
   "id": "3bafb485-17c6-44c4-bb97-f9c8f6dc1090",
   "metadata": {},
   "outputs": [
    {
     "name": "stdout",
     "output_type": "stream",
     "text": [
      "\n",
      "OLS Regression Results on Selected Predictors:\n",
      "Coefficients:\n",
      " const    6533.613879\n",
      "H2S         7.680907\n",
      "SAL       -44.289814\n",
      "Eh7        -0.920439\n",
      "P          -2.055330\n",
      "Ca          0.200833\n",
      "Mn         -7.037933\n",
      "dtype: float64\n",
      "Standard Errors:\n",
      " const    1635.633056\n",
      "H2S         2.515252\n",
      "SAL        19.706339\n",
      "Eh7         2.208333\n",
      "P           3.035275\n",
      "Ca          0.043372\n",
      "Mn          3.427935\n",
      "dtype: float64\n",
      "Sum of Standard Errors (Σ s.e.(β̂_j)): 1666.569562638657\n",
      "Sum of Squared Errors (SSE): 7672754.31405452\n"
     ]
    }
   ],
   "source": [
    "# Run OLS regression on selected predictors\n",
    "X_reduced = X[selected_predictors]  # Subset of significant predictors\n",
    "X_with_intercept = sm.add_constant(X_reduced)  # Add intercept for OLS\n",
    "ols_model = sm.OLS(Y, X_with_intercept).fit()\n",
    "\n",
    "# Extract OLS results\n",
    "coefficients = ols_model.params\n",
    "std_errors = ols_model.bse\n",
    "sse = np.sum(ols_model.resid ** 2)\n",
    "sum_std_errors = np.sum(std_errors)  # Sum of Standard Errors\n",
    "\n",
    "print(\"\\nOLS Regression Results on Selected Predictors:\")\n",
    "print(\"Coefficients:\\n\", coefficients)\n",
    "print(\"Standard Errors:\\n\", std_errors)\n",
    "print(\"Sum of Standard Errors (Σ s.e.(β̂_j)):\", sum_std_errors)\n",
    "print(\"Sum of Squared Errors (SSE):\", sse)"
   ]
  },
  {
   "cell_type": "markdown",
   "id": "5ea4ecff-18b0-44ca-893b-c1d0a399685e",
   "metadata": {},
   "source": [
    "## Part III - Using the 5-predictor data set (LINTH-5.txt) to perform a variable selection procedure.\n",
    "### Load Dataset and Extract Predictors\n",
    "Firstly, we load the dataset from the specified file path and extract relevant variables."
   ]
  },
  {
   "cell_type": "code",
   "execution_count": 14,
   "id": "15d23d97-1734-44c6-be15-b137399d09c3",
   "metadata": {},
   "outputs": [
    {
     "name": "stderr",
     "output_type": "stream",
     "text": [
      "C:\\Users\\kaur6\\AppData\\Local\\Temp\\ipykernel_36872\\1932888902.py:3: FutureWarning: The 'delim_whitespace' keyword in pd.read_csv is deprecated and will be removed in a future version. Use ``sep='\\s+'`` instead\n",
      "  data_small = pd.read_csv(file_path_small, delim_whitespace=True)\n"
     ]
    }
   ],
   "source": [
    "# Load data\n",
    "file_path_small = \"C:/Users/kaur6/Downloads/Regression/Project/LINTH-5.txt\"\n",
    "data_small = pd.read_csv(file_path_small, delim_whitespace=True)\n",
    "\n",
    "# Extract the relevant predictor columns\n",
    "predictor_columns_small = ['SAL', 'pH', 'K', 'Na', 'Zn']\n",
    "X_small = data_small[predictor_columns_small]\n",
    "Y_small = data_small['BIO']"
   ]
  },
  {
   "cell_type": "markdown",
   "id": "a13c8e79-3b09-4a23-8831-0c0d2aa08904",
   "metadata": {},
   "source": [
    "### Fit Linear Regression Model\n",
    "Then we add an intercept term to the predictors and fit a linear regression model using OLS to analyze the relationship between the predictors and the response variable."
   ]
  },
  {
   "cell_type": "code",
   "execution_count": 15,
   "id": "76ad5872-1d0c-4e9d-a768-81a9a4c6e517",
   "metadata": {},
   "outputs": [],
   "source": [
    "# Add intercept to predictors for regression\n",
    "X_with_intercept_small = sm.add_constant(X_small)\n",
    "\n",
    "# Fit linear regression model\n",
    "model2 = sm.OLS(Y_small, X_with_intercept_small).fit()"
   ]
  },
  {
   "cell_type": "markdown",
   "id": "d29594a3-0af6-4f1d-844e-331d809e8e8a",
   "metadata": {},
   "source": [
    "### 1) Collinearity Diagnostics \n",
    "#### Calculate VIF\n",
    "We calculate the Variance Inflation Factor (VIF) for each predictor to assess multicollinearity, indicating how much variance of a predictor is inflated due to other predictors in the model."
   ]
  },
  {
   "cell_type": "code",
   "execution_count": 16,
   "id": "5f6aad9c-f378-4116-bba7-ead6a5d1076a",
   "metadata": {},
   "outputs": [
    {
     "name": "stdout",
     "output_type": "stream",
     "text": [
      "\n",
      "Variance Inflation Factor (VIF):\n",
      "   Feature        VIF\n",
      "0     SAL  23.943184\n",
      "1      pH  14.601330\n",
      "2       K  22.467232\n",
      "3      Na  19.878963\n",
      "4      Zn   5.567736\n"
     ]
    }
   ],
   "source": [
    "# Collinearity Diagnostics\n",
    "# 1. Calculate Variance Inflation Factor (VIF)\n",
    "vif_data_small = pd.DataFrame()\n",
    "vif_data_small['Feature'] = X_small.columns\n",
    "vif_data_small['VIF'] = [variance_inflation_factor(X_small.values, i) for i in range(X_small.shape[1])]\n",
    "print(\"\\nVariance Inflation Factor (VIF):\\n\", vif_data_small)"
   ]
  },
  {
   "cell_type": "markdown",
   "id": "0ec0fbd6-9931-43dd-a794-e2debd6a17ba",
   "metadata": {},
   "source": [
    "#### Condition Number\n",
    "We calculate the condition number of the predictor matrix to assess numerical stability and detect potential multicollinearity issues."
   ]
  },
  {
   "cell_type": "code",
   "execution_count": 17,
   "id": "9972964b-3b8b-405e-87ee-0bf9637a2795",
   "metadata": {},
   "outputs": [
    {
     "name": "stdout",
     "output_type": "stream",
     "text": [
      "\n",
      "Condition Number: 374201.51372987754\n"
     ]
    }
   ],
   "source": [
    "# 2. Condition Number\n",
    "_, singular_values, _ = np.linalg.svd(X_with_intercept_small)\n",
    "condition_number_small = max(singular_values) / min(singular_values)\n",
    "print(\"\\nCondition Number:\", condition_number_small)"
   ]
  },
  {
   "cell_type": "markdown",
   "id": "d48a7555-e6dc-45db-b8e7-b49eee2736e7",
   "metadata": {},
   "source": [
    "#### Correlation Matrix\n",
    "We compute the correlation matrix of the predictors to identify potential multicollinearity by examining the relationships between the variables."
   ]
  },
  {
   "cell_type": "code",
   "execution_count": 18,
   "id": "cce1e4c7-3a83-4c22-a64d-7eed41fe1dab",
   "metadata": {},
   "outputs": [
    {
     "name": "stdout",
     "output_type": "stream",
     "text": [
      "\n",
      "Correlation Matrix:\n",
      "           SAL        pH         K        Na        Zn\n",
      "SAL  1.000000 -0.051333 -0.020633  0.162266 -0.420834\n",
      "pH  -0.051333  1.000000  0.019228 -0.037720 -0.722167\n",
      "K   -0.020633  0.019228  1.000000  0.792096  0.073609\n",
      "Na   0.162266 -0.037720  0.792096  1.000000  0.117047\n",
      "Zn  -0.420834 -0.722167  0.073609  0.117047  1.000000\n"
     ]
    }
   ],
   "source": [
    "# 3. Correlation Matrix\n",
    "correlation_matrix_small = X_small.corr()\n",
    "print(\"\\nCorrelation Matrix:\\n\", correlation_matrix_small)"
   ]
  },
  {
   "cell_type": "markdown",
   "id": "4f639650-5b95-4b28-897f-bd954b33e6ef",
   "metadata": {},
   "source": [
    "### 2) Stepwise Regression\n",
    "We implement a stepwise regression function that iteratively adds predictors based on p-values (forward selection) and removes non-significant predictors (backward elimination) to build the final model."
   ]
  },
  {
   "cell_type": "code",
   "execution_count": 19,
   "id": "39043f52-d7a0-4f1b-a04d-86c10e6f6e4f",
   "metadata": {},
   "outputs": [
    {
     "name": "stdout",
     "output_type": "stream",
     "text": [
      "Added pH with p-value: 4.433212922668364e-10\n",
      "Added Na with p-value: 0.010077605596565177\n",
      "\n",
      "Final Model Summary:\n",
      "                             OLS Regression Results                            \n",
      "==============================================================================\n",
      "Dep. Variable:                    BIO   R-squared:                       0.658\n",
      "Model:                            OLS   Adj. R-squared:                  0.642\n",
      "Method:                 Least Squares   F-statistic:                     40.48\n",
      "Date:                Mon, 02 Dec 2024   Prob (F-statistic):           1.60e-10\n",
      "Time:                        21:42:31   Log-Likelihood:                -331.33\n",
      "No. Observations:                  45   AIC:                             668.7\n",
      "Df Residuals:                      42   BIC:                             674.1\n",
      "Df Model:                           2                                         \n",
      "Covariance Type:            nonrobust                                         \n",
      "==============================================================================\n",
      "                 coef    std err          t      P>|t|      [0.025      0.975]\n",
      "------------------------------------------------------------------------------\n",
      "const       -475.7256    273.523     -1.739      0.089   -1027.717      76.266\n",
      "pH           404.9482     47.770      8.477      0.000     308.545     501.352\n",
      "Na            -0.0233      0.009     -2.695      0.010      -0.041      -0.006\n",
      "==============================================================================\n",
      "Omnibus:                       11.036   Durbin-Watson:                   0.950\n",
      "Prob(Omnibus):                  0.004   Jarque-Bera (JB):               10.642\n",
      "Skew:                           1.079   Prob(JB):                      0.00489\n",
      "Kurtosis:                       4.008   Cond. No.                     8.42e+04\n",
      "==============================================================================\n",
      "\n",
      "Notes:\n",
      "[1] Standard Errors assume that the covariance matrix of the errors is correctly specified.\n",
      "[2] The condition number is large, 8.42e+04. This might indicate that there are\n",
      "strong multicollinearity or other numerical problems.\n"
     ]
    }
   ],
   "source": [
    "# Stepwise regression function\n",
    "def stepwise_regression(X, Y, alpha_enter=0.12, alpha_remove=0.12):\n",
    "    initial_features = X.columns.tolist()\n",
    "    selected_features = []\n",
    "    while True:\n",
    "        # Forward step: check if we should add a predictor\n",
    "        remaining_features = list(set(initial_features) - set(selected_features))\n",
    "        if not remaining_features:\n",
    "            break\n",
    "        \n",
    "        pvals = []\n",
    "        for feature in remaining_features:\n",
    "            model = sm.OLS(Y, sm.add_constant(X[selected_features + [feature]])).fit()\n",
    "            pvals.append(model.pvalues[feature])\n",
    "        \n",
    "        min_pval = min(pvals)\n",
    "        if min_pval < alpha_enter:\n",
    "            selected_features.append(remaining_features[pvals.index(min_pval)])\n",
    "            print(f'Added {remaining_features[pvals.index(min_pval)]} with p-value: {min_pval}')\n",
    "        else:\n",
    "            break\n",
    "        \n",
    "        # Backward step: check if we should remove a predictor\n",
    "        while True:\n",
    "            model = sm.OLS(Y, sm.add_constant(X[selected_features])).fit()\n",
    "            max_pval = max(model.pvalues[1:])\n",
    "            if max_pval > alpha_remove:\n",
    "                excluded_feature = model.pvalues[1:].idxmax()\n",
    "                selected_features.remove(excluded_feature)\n",
    "                print(f'Removed {excluded_feature} with p-value: {max_pval}')\n",
    "            else:\n",
    "                break\n",
    "    \n",
    "    # Final model\n",
    "    final_model = sm.OLS(Y, sm.add_constant(X[selected_features])).fit()\n",
    "    return final_model\n",
    "\n",
    "# Run stepwise regression\n",
    "final_model = stepwise_regression(X_small, Y_small)\n",
    "print(\"\\nFinal Model Summary:\\n\", final_model.summary())"
   ]
  },
  {
   "cell_type": "markdown",
   "id": "777dacf4-1d1f-47e9-a235-0d6ba4e76c49",
   "metadata": {},
   "source": [
    "### Collinearity Diagnostics after Stepwise Regression\n",
    "#### Calculate VIF\n",
    "We calculate the Variance Inflation Factor (VIF) for the selected predictors after stepwise regression to assess multicollinearity in the final model."
   ]
  },
  {
   "cell_type": "code",
   "execution_count": 20,
   "id": "08333916-21b7-4b15-ac66-e18ffb739eb9",
   "metadata": {},
   "outputs": [
    {
     "name": "stdout",
     "output_type": "stream",
     "text": [
      "\n",
      "Variance Inflation Factor (VIF) after Stepwise Regression:\n",
      "   Feature       VIF\n",
      "0      pH  4.810397\n",
      "1      Na  4.810397\n"
     ]
    }
   ],
   "source": [
    "# Collinearity Diagnostics after stepwise regression\n",
    "# 1. Calculate Variance Inflation Factor (VIF)\n",
    "X_selected = X_small[final_model.model.exog_names[1:]]\n",
    "X_with_intercept_selected = sm.add_constant(X_selected)\n",
    "vif_data = pd.DataFrame()\n",
    "vif_data['Feature'] = X_selected.columns\n",
    "vif_data['VIF'] = [variance_inflation_factor(X_selected.values, i) for i in range(X_selected.shape[1])]\n",
    "print(\"\\nVariance Inflation Factor (VIF) after Stepwise Regression:\\n\", vif_data)"
   ]
  },
  {
   "cell_type": "markdown",
   "id": "b963fe23-b3ef-449f-84b6-7e7c496205d3",
   "metadata": {},
   "source": [
    "#### Calculate Condition Number\n",
    "We compute the condition number for the selected predictors after stepwise regression to assess the numerical stability and potential multicollinearity issues in the final model."
   ]
  },
  {
   "cell_type": "code",
   "execution_count": 21,
   "id": "ebbed987-1d80-4d6e-81b7-e33f3dd3b0b2",
   "metadata": {},
   "outputs": [
    {
     "name": "stdout",
     "output_type": "stream",
     "text": [
      "\n",
      "Condition Number after Stepwise Regression: 84221.60057942959\n"
     ]
    }
   ],
   "source": [
    "# 2. Condition Number\n",
    "_, singular_values, _ = np.linalg.svd(X_with_intercept_selected)\n",
    "condition_number = max(singular_values) / min(singular_values)\n",
    "print(\"\\nCondition Number after Stepwise Regression:\", condition_number)"
   ]
  },
  {
   "cell_type": "markdown",
   "id": "81bb5a07-079c-4b95-9259-3ff08ebd27f9",
   "metadata": {},
   "source": [
    "#### Correlation Matrix\n",
    "We compute the correlation matrix for the selected predictors after stepwise regression to evaluate the relationships between the variables and check for potential multicollinearity."
   ]
  },
  {
   "cell_type": "code",
   "execution_count": 22,
   "id": "939b47c4-30b7-4306-a3ef-d1b82962b9d6",
   "metadata": {},
   "outputs": [
    {
     "name": "stdout",
     "output_type": "stream",
     "text": [
      "\n",
      "Correlation Matrix after Stepwise Regression:\n",
      "          pH       Na\n",
      "pH  1.00000 -0.03772\n",
      "Na -0.03772  1.00000\n"
     ]
    }
   ],
   "source": [
    "# 3. Correlation Matrix\n",
    "correlation_matrix_selected = X_selected.corr()\n",
    "print(\"\\nCorrelation Matrix after Stepwise Regression:\\n\", correlation_matrix_selected)"
   ]
  },
  {
   "cell_type": "markdown",
   "id": "09ab0200-19b0-4ba4-b6de-ad792f16ad95",
   "metadata": {},
   "source": [
    "### 3) Ridge Regression and Ridge Trace\n",
    "We standardize the predictors and perform ridge regression with varying regularization parameters (alpha). We then plot the ridge trace to observe the impact of regularization on the coefficients."
   ]
  },
  {
   "cell_type": "code",
   "execution_count": 23,
   "id": "fe6184d6-0179-47f2-8a63-a71b0422daac",
   "metadata": {},
   "outputs": [
    {
     "data": {
      "image/png": "[encoded data removed]",
      "text/plain": [
       "<Figure size 1000x600 with 1 Axes>"
      ]
     },
     "metadata": {},
     "output_type": "display_data"
    }
   ],
   "source": [
    "# Standardize the predictors (important for ridge regression)\n",
    "scaler = StandardScaler()\n",
    "X_scaled = scaler.fit_transform(X_small)\n",
    "\n",
    "# Ridge regression with varying lambda (alpha)\n",
    "alphas = np.logspace(-6, 6, 200)\n",
    "ridge_coefs = []\n",
    "\n",
    "# Fit ridge regression models for different alpha values\n",
    "for alpha in alphas:\n",
    "    ridge = Ridge(alpha=alpha)\n",
    "    ridge.fit(X_scaled, Y_small)\n",
    "    ridge_coefs.append(ridge.coef_)\n",
    "\n",
    "ridge_coefs = np.array(ridge_coefs)\n",
    "\n",
    "# Plot ridge trace\n",
    "plt.figure(figsize=(10, 6))\n",
    "for i in range(X_small.shape[1]):\n",
    "    plt.plot(alphas, ridge_coefs[:, i], label=X_small.columns[i])\n",
    "plt.xscale('log')\n",
    "plt.xlabel('Alpha (Regularization Parameter)')\n",
    "plt.ylabel('Coefficients')\n",
    "plt.title('Ridge Trace')\n",
    "plt.legend()\n",
    "plt.show()"
   ]
  },
  {
   "cell_type": "markdown",
   "id": "ba54450b-0876-487a-b887-054e2db2faac",
   "metadata": {},
   "source": [
    "### Variable Selection on the basis of Ridge Trace\n",
    "We select the optimal regularization parameter (alpha or k) based on the ridge trace, eliminate predictors with coefficients close to zero, and refit the model with the selected features to obtain the final ridge regression model."
   ]
  },
  {
   "cell_type": "code",
   "execution_count": 24,
   "id": "d944a176-4a6f-4eb5-ba80-68875e16c363",
   "metadata": {},
   "outputs": [
    {
     "name": "stdout",
     "output_type": "stream",
     "text": [
      "\n",
      "Selected Features after Ridge Regression: ['pH', 'K', 'Na', 'Zn']\n",
      "\n",
      "Ridge Model Summary:\n",
      "                             OLS Regression Results                            \n",
      "==============================================================================\n",
      "Dep. Variable:                    BIO   R-squared:                       0.664\n",
      "Model:                            OLS   Adj. R-squared:                  0.631\n",
      "Method:                 Least Squares   F-statistic:                     19.78\n",
      "Date:                Mon, 02 Dec 2024   Prob (F-statistic):           4.76e-09\n",
      "Time:                        21:42:32   Log-Likelihood:                -330.95\n",
      "No. Observations:                  45   AIC:                             671.9\n",
      "Df Residuals:                      40   BIC:                             680.9\n",
      "Df Model:                           4                                         \n",
      "Covariance Type:            nonrobust                                         \n",
      "==============================================================================\n",
      "                 coef    std err          t      P>|t|      [0.025      0.975]\n",
      "------------------------------------------------------------------------------\n",
      "const       -176.2505    493.162     -0.357      0.723   -1172.967     820.467\n",
      "pH           372.4539     70.529      5.281      0.000     229.910     514.998\n",
      "K             -0.1513      0.334     -0.453      0.653      -0.827       0.524\n",
      "Na            -0.0174      0.014     -1.200      0.237      -0.047       0.012\n",
      "Zn            -7.1806     10.659     -0.674      0.504     -28.722      14.361\n",
      "==============================================================================\n",
      "Omnibus:                       10.989   Durbin-Watson:                   0.924\n",
      "Prob(Omnibus):                  0.004   Jarque-Bera (JB):               10.589\n",
      "Skew:                           1.056   Prob(JB):                      0.00502\n",
      "Kurtosis:                       4.091   Cond. No.                     1.49e+05\n",
      "==============================================================================\n",
      "\n",
      "Notes:\n",
      "[1] Standard Errors assume that the covariance matrix of the errors is correctly specified.\n",
      "[2] The condition number is large, 1.49e+05. This might indicate that there are\n",
      "strong multicollinearity or other numerical problems.\n"
     ]
    }
   ],
   "source": [
    "# Define threshold for coefficients close to zero\n",
    "threshold = 0.5\n",
    "\n",
    "# Select alpha or lambda based on ridge trace (choose lambda where coefficients stabilize)\n",
    "optimal_lambda = 10**4  # adjust based on the plot\n",
    "ridge = Ridge(alpha=optimal_lambda)\n",
    "ridge.fit(X_scaled, Y_small)\n",
    "\n",
    "# Eliminate predictors with coefficients close to zero\n",
    "selected_features = X_small.columns[np.abs(ridge.coef_) > threshold].tolist()\n",
    "print(\"\\nSelected Features after Ridge Regression:\", selected_features)\n",
    "\n",
    "# Refit the model with selected features\n",
    "X_selected = X_small[selected_features]\n",
    "X_with_intercept_selected = sm.add_constant(X_selected)\n",
    "\n",
    "model_ridge = sm.OLS(Y_small, X_with_intercept_selected).fit()\n",
    "print(\"\\nRidge Model Summary:\\n\", model_ridge.summary())"
   ]
  },
  {
   "cell_type": "markdown",
   "id": "2cc30df7-c9a5-4ff7-a201-10375e4930ac",
   "metadata": {},
   "source": [
    "### Collinearity Diagnostics after Ridge Regression\n",
    "#### Calculate VIF\n",
    "We calculate the Variance Inflation Factor (VIF) for the selected features after ridge regression to assess multicollinearity and ensure stability in the final model."
   ]
  },
  {
   "cell_type": "code",
   "execution_count": 25,
   "id": "14b6020e-ded9-4579-aeda-607811728f95",
   "metadata": {},
   "outputs": [
    {
     "name": "stdout",
     "output_type": "stream",
     "text": [
      "\n",
      "Variance Inflation Factor (VIF) after Ridge Regression:\n",
      "   Feature        VIF\n",
      "0      pH   5.750744\n",
      "1       K  22.415186\n",
      "2      Na  18.771747\n",
      "3      Zn   4.069271\n"
     ]
    }
   ],
   "source": [
    "# Collinearity Diagnostics after Ridge Regression\n",
    "# 1. Calculate Variance Inflation Factor (VIF)\n",
    "vif_data = pd.DataFrame()\n",
    "vif_data['Feature'] = X_selected.columns\n",
    "vif_data['VIF'] = [variance_inflation_factor(X_selected.values, i) for i in range(X_selected.shape[1])]\n",
    "print(\"\\nVariance Inflation Factor (VIF) after Ridge Regression:\\n\", vif_data)"
   ]
  },
  {
   "cell_type": "markdown",
   "id": "805e6062-aa45-4034-a6ca-1508bc94fef3",
   "metadata": {},
   "source": [
    "#### Calculate Condition number\n",
    "We compute the condition number for the selected predictors after ridge regression to assess the numerical stability and potential multicollinearity issues in the final model."
   ]
  },
  {
   "cell_type": "code",
   "execution_count": 26,
   "id": "c1fbc1f0-5297-4c38-9630-afd77371f380",
   "metadata": {},
   "outputs": [
    {
     "name": "stdout",
     "output_type": "stream",
     "text": [
      "\n",
      "Condition Number after Ridge Regression: 149333.28557809192\n"
     ]
    }
   ],
   "source": [
    "# 2. Condition Number\n",
    "_, singular_values, _ = np.linalg.svd(X_with_intercept_selected)\n",
    "condition_number = max(singular_values) / min(singular_values)\n",
    "print(\"\\nCondition Number after Ridge Regression:\", condition_number)"
   ]
  },
  {
   "cell_type": "markdown",
   "id": "0267d8f7-628b-4718-bb5c-1202e6843c7e",
   "metadata": {},
   "source": [
    "#### Correlation Matrix\n",
    "We compute the correlation matrix for the selected predictors after ridge regression to evaluate the relationships between the variables and check for potential multicollinearity."
   ]
  },
  {
   "cell_type": "code",
   "execution_count": 27,
   "id": "1e0bdb3c-3957-4703-8b3e-f725640e2539",
   "metadata": {},
   "outputs": [
    {
     "name": "stdout",
     "output_type": "stream",
     "text": [
      "\n",
      "Correlation Matrix after Ridge Regression:\n",
      "           pH         K        Na        Zn\n",
      "pH  1.000000  0.019228 -0.037720 -0.722167\n",
      "K   0.019228  1.000000  0.792096  0.073609\n",
      "Na -0.037720  0.792096  1.000000  0.117047\n",
      "Zn -0.722167  0.073609  0.117047  1.000000\n"
     ]
    }
   ],
   "source": [
    "# 3. Correlation Matrix\n",
    "correlation_matrix_selected = X_selected.corr()\n",
    "print(\"\\nCorrelation Matrix after Ridge Regression:\\n\", correlation_matrix_selected)"
   ]
  },
  {
   "cell_type": "markdown",
   "id": "c5db1f46-98e8-4721-82b4-5f3440888892",
   "metadata": {},
   "source": [
    "### 4) Subset Selection for Best Two-Variable Model Based on AIC, BIC, and SSE\n",
    "We apply the subset selection method to identify the best two-variable model based on AIC, BIC, and SSE. We compare the results from the three criteria and use VIF to break any ties, explaining why the results may differ across these criteria."
   ]
  },
  {
   "cell_type": "code",
   "execution_count": 28,
   "id": "48f2e696-f5ac-4feb-9540-220d7aebc415",
   "metadata": {},
   "outputs": [
    {
     "name": "stdout",
     "output_type": "stream",
     "text": [
      "   Variables         AIC         BIC           SSE       VIF\n",
      "0  (SAL, pH)  675.388526  680.808514  7.603247e+06  1.002642\n",
      "1   (SAL, K)  714.535131  719.955119  1.814690e+07  1.000426\n",
      "2  (SAL, Na)  713.370582  718.790570  1.768331e+07  1.027042\n",
      "3  (SAL, Zn)  680.810195  686.230182  8.576766e+06  1.215216\n",
      "4    (pH, K)  670.074086  675.494074  6.756309e+06  1.000370\n",
      "5   (pH, Na)  668.666013  674.086001  6.548174e+06  1.001425\n",
      "6   (pH, Zn)  674.831082  680.251070  7.509642e+06  2.089975\n",
      "7    (K, Na)  713.529394  718.949382  1.774583e+07  2.683958\n",
      "8    (K, Zn)  692.863446  698.283434  1.121113e+07  1.005448\n",
      "9   (Na, Zn)  691.707771  697.127758  1.092687e+07  1.013890\n",
      "\n",
      "Best model based on AIC:\n",
      "Variables          (pH, Na)\n",
      "AIC              668.666013\n",
      "BIC              674.086001\n",
      "SSE          6548174.234846\n",
      "VIF                1.001425\n",
      "Name: 5, dtype: object\n",
      "\n",
      "Best model based on BIC:\n",
      "Variables          (pH, Na)\n",
      "AIC              668.666013\n",
      "BIC              674.086001\n",
      "SSE          6548174.234846\n",
      "VIF                1.001425\n",
      "Name: 5, dtype: object\n",
      "\n",
      "Best model based on SSE:\n",
      "Variables          (pH, Na)\n",
      "AIC              668.666013\n",
      "BIC              674.086001\n",
      "SSE          6548174.234846\n",
      "VIF                1.001425\n",
      "Name: 5, dtype: object\n",
      "\n",
      "Tie broken using VIF. Best model is: ('pH', 'Na')\n"
     ]
    }
   ],
   "source": [
    "# Define a function to calculate VIF\n",
    "def calculate_vif(X_small):\n",
    "    vif_data = pd.DataFrame()\n",
    "    vif_data['Variable'] = X_small.columns\n",
    "    vif_data['VIF'] = [variance_inflation_factor(X_small.values, i) for i in range(X_small.shape[1])]\n",
    "    return vif_data\n",
    "\n",
    "# Function to calculate SSE\n",
    "def calculate_sse(model, X_small, Y_small):\n",
    "    predictions = model.predict(X_small)\n",
    "    residuals = Y_small - predictions\n",
    "    sse = np.sum(residuals**2)\n",
    "    return sse\n",
    "\n",
    "# Function to calculate AIC and BIC\n",
    "def calculate_aic_bic(model, X_small, Y_small):\n",
    "    aic = model.aic\n",
    "    bic = model.bic\n",
    "    return aic, bic\n",
    "\n",
    "# Initialize storage for results\n",
    "results = []\n",
    "\n",
    "# Loop through all combinations of two predictors\n",
    "for combo in combinations(X_small.columns, 2):\n",
    "    X_selected = X_small[list(combo)]\n",
    "    X_with_intercept_selected = sm.add_constant(X_selected)\n",
    "    \n",
    "    # Fit the OLS model\n",
    "    model = sm.OLS(Y_small, X_with_intercept_selected).fit()\n",
    "    \n",
    "    # Calculate AIC, BIC, and SSE\n",
    "    aic, bic = calculate_aic_bic(model, X_with_intercept_selected, Y_small)\n",
    "    sse = calculate_sse(model, X_with_intercept_selected, Y_small)\n",
    "    \n",
    "    # Store the results\n",
    "    results.append({\n",
    "        'Variables': combo,\n",
    "        'AIC': aic,\n",
    "        'BIC': bic,\n",
    "        'SSE': sse,\n",
    "        'VIF': calculate_vif(X_with_intercept_selected).loc[1:, 'VIF'].max()  # VIF for non-constant terms\n",
    "    })\n",
    "\n",
    "# Convert results to DataFrame\n",
    "results_df = pd.DataFrame(results)\n",
    "\n",
    "# Display the results\n",
    "print(results_df)\n",
    "\n",
    "# Find the best models based on AIC, BIC, and SSE\n",
    "best_aic_model = results_df.loc[results_df['AIC'].idxmin()]\n",
    "best_bic_model = results_df.loc[results_df['BIC'].idxmin()]\n",
    "best_sse_model = results_df.loc[results_df['SSE'].idxmin()]\n",
    "\n",
    "print(\"\\nBest model based on AIC:\")\n",
    "print(best_aic_model)\n",
    "\n",
    "print(\"\\nBest model based on BIC:\")\n",
    "print(best_bic_model)\n",
    "\n",
    "print(\"\\nBest model based on SSE:\")\n",
    "print(best_sse_model)\n",
    "\n",
    "# If there is a tie, use VIF to break it\n",
    "if best_aic_model['AIC'] == best_bic_model['AIC'] and best_aic_model['AIC'] == best_sse_model['AIC']:\n",
    "    if best_aic_model['VIF'] < best_bic_model['VIF']:\n",
    "        print(\"\\nTie broken using VIF. Best model is:\", best_aic_model['Variables'])\n",
    "    else:\n",
    "        print(\"\\nTie broken using VIF. Best model is:\", best_bic_model['Variables'])\n"
   ]
  },
  {
   "cell_type": "code",
   "execution_count": null,
   "id": "e1c40f2f-239b-4470-a04c-2fbbb91b4bc2",
   "metadata": {},
   "outputs": [],
   "source": []
  }
 ],
 "metadata": {
  "kernelspec": {
   "display_name": "Python 3 (ipykernel)",
   "language": "python",
   "name": "python3"
  },
  "language_info": {
   "codemirror_mode": {
    "name": "ipython",
    "version": 3
   },
   "file_extension": ".py",
   "mimetype": "text/x-python",
   "name": "python",
   "nbconvert_exporter": "python",
   "pygments_lexer": "ipython3",
   "version": "3.12.4"
  }
 },
 "nbformat": 4,
 "nbformat_minor": 5
}
